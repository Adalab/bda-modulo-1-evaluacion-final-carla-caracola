{
 "cells": [
  {
   "cell_type": "code",
   "execution_count": 51,
   "metadata": {},
   "outputs": [],
   "source": [
    "class Ecommerce:                                                # define class Ecommerce\n",
    "\n",
    "    def __init__(self, name): \n",
    "        self.name = name                                        # define an atribute \"name\", required\n",
    "        self.inventory = []                                         # atribute to store products's stock. It's a list of dictionaries. Each dictionary contains the following keys: \"name\", \"price\" and \"stock\"\n",
    "        self.customers = {}                                     # attribute to keep track of customers and their purchases\n",
    "        self.total_sales = 0.0                                  # attribute to keep track of the total sales of the store\n",
    "\n",
    "    def add_product (self, product_dictionary):                 # method for adding/updating product inventory\n",
    "        product_name = product_dictionary.get(\"name\")\n",
    "        \n",
    "        for item in self.inventory:                             # iterate the list by product dictionary\n",
    "            if item [\"name\"] == product_name:                   # THIS IS NOT WORKING, REVIEW LATER.\n",
    "                print (f\"Product {product_name} has been succesfully updated.\")\n",
    "                return \n",
    "        self.inventory.append(product_dictionary)               # if the product doesn't exist, it is added\n",
    "        print (f\"Product {product_name} has been succesfully added.\")\n",
    "\n"
   ]
  },
  {
   "cell_type": "code",
   "execution_count": 54,
   "metadata": {},
   "outputs": [
    {
     "name": "stdout",
     "output_type": "stream",
     "text": [
      "Product camisa has been succesfully added.\n",
      "[{'name': 'camisa', 'price': 20, 'stock': 40}]\n",
      "Product pantalón has been succesfully added.\n",
      "[{'name': 'camisa', 'price': 20, 'stock': 40}, {'name': 'pantalón', 'price': 18, 'stock': 50}]\n",
      "Product remera has been succesfully added.\n",
      "[{'name': 'camisa', 'price': 20, 'stock': 40}, {'name': 'pantalón', 'price': 18, 'stock': 50}, {'name': 'remera', 'price': 7, 'stock': 66}]\n",
      "Product camisa has been succesfully updated.\n",
      "[{'name': 'camisa', 'price': 20, 'stock': 40}, {'name': 'pantalón', 'price': 18, 'stock': 50}, {'name': 'remera', 'price': 7, 'stock': 66}]\n"
     ]
    }
   ],
   "source": [
    "mi_tienda = Ecommerce (\"La tienda de Carla\")                    # creating an object of the defined class to verify that the method works as desired\n",
    "\n",
    "\n",
    "# adding new products to the inventary\n",
    "product_dictionary1 = {\"name\": \"camisa\", \"price\": 20, \"stock\": 40}\n",
    "product_dictionary2 = {\"name\": \"pantalón\", \"price\": 18, \"stock\": 50}\n",
    "product_dictionary3 = {\"name\": \"remera\", \"price\": 7, \"stock\": 66}\n",
    "\n",
    "mi_tienda.add_product (product_dictionary1)\n",
    "print (mi_tienda.inventory)\n",
    "\n",
    "mi_tienda.add_product (product_dictionary2)\n",
    "print (mi_tienda.inventory)\n",
    "\n",
    "mi_tienda.add_product (product_dictionary3)\n",
    "print (mi_tienda.inventory)\n",
    "\n",
    "# updating existing product. THIS IS NOT WORKING, REVIEW LATER.\n",
    "\n",
    "product_dictionary1 = {\"name\": \"camisa\", \"price\": 30, \"stock\": 60}\n",
    "\n",
    "mi_tienda.add_product (product_dictionary1)\n",
    "print (mi_tienda.inventory)\n"
   ]
  }
 ],
 "metadata": {
  "kernelspec": {
   "display_name": "base",
   "language": "python",
   "name": "python3"
  },
  "language_info": {
   "codemirror_mode": {
    "name": "ipython",
    "version": 3
   },
   "file_extension": ".py",
   "mimetype": "text/x-python",
   "name": "python",
   "nbconvert_exporter": "python",
   "pygments_lexer": "ipython3",
   "version": "3.9.12"
  }
 },
 "nbformat": 4,
 "nbformat_minor": 2
}
