{
 "cells": [
  {
   "cell_type": "code",
   "execution_count": null,
   "metadata": {},
   "outputs": [],
   "source": [
    "class Ecommerce:                                                # define class Ecommerce\n",
    "\n",
    "    def __init__(self, name): \n",
    "        self.name = name                                        # define an atribute \"name\", required\n",
    "        self.inventory = []                                     # atribute to store products's stock. It's a list of dictionaries. Each dictionary contains the following keys: \"name\", \"price\" and \"stock\"\n",
    "        self.customers = {}                                     # attribute to keep track of customers and their purchases\n",
    "        self.total_sales = 0.0                                  # attribute to keep track of the total sales of the store\n",
    "\n",
    "    def add_product (self, name, price, stock):                 # method for adding/updating product inventory\n",
    "        product_name = name\n",
    "        product_price = price\n",
    "        product_stock = stock\n",
    "        self.inventory.append({\"name\": product_name, \"price\" : product_price, \"stock\": product_stock})               # if the product doesn't exist, it is added\n",
    "        \n",
    "        print (f\"{product_name} has been succesfully added.\")\n",
    "    \n",
    "    def show_inventory (self):\n",
    "        print (f\"\\n{self.name} inventory:\")\n",
    "        for product in self.inventory:\n",
    "            product_name = product[\"name\"]\n",
    "            product_price = product [\"price\"]\n",
    "            product_stock = product [\"stock\"]\n",
    "            print (f\"Name: {product_name}, Price: {product_price}, Stock: {product_stock}\")\n",
    "\n",
    "\n",
    "\n",
    "\n",
    "\n",
    "\n"
   ]
  },
  {
   "cell_type": "code",
   "execution_count": null,
   "metadata": {},
   "outputs": [],
   "source": [
    "# creating an object of the defined class and adding new products to verify that the method works as desired\n",
    "\n",
    "my_store = Ecommerce (\"Carla's store\")\n",
    "\n",
    "my_store.add_product (\"Shorts\", 28, 50)\n",
    "print(my_store.inventory)\n",
    "\n",
    "my_store.add_product (\"Shirt\", 35, 40)\n",
    "print(my_store.inventory)\n",
    "\n",
    "my_store.add_product (\"Shoes\", 68, 30)\n",
    "print(my_store.inventory)\n",
    "\n",
    "my_store.add_product (\"Skirts\", 28, 48)\n",
    "print(my_store.inventory)\n",
    "\n",
    "my_store.add_product (\"Skirts\", 28, 48)\n",
    "print(my_store.inventory)\n",
    "\n",
    "my_store.show_inventory()\n",
    "\n",
    "print(type(my_store.inventory))\n",
    "print(type(my_store.inventory[0]))\n",
    "print(type(my_store.name))\n"
   ]
  }
 ],
 "metadata": {
  "kernelspec": {
   "display_name": "base",
   "language": "python",
   "name": "python3"
  },
  "language_info": {
   "codemirror_mode": {
    "name": "ipython",
    "version": 3
   },
   "file_extension": ".py",
   "mimetype": "text/x-python",
   "name": "python",
   "nbconvert_exporter": "python",
   "pygments_lexer": "ipython3",
   "version": "3.9.12"
  }
 },
 "nbformat": 4,
 "nbformat_minor": 2
}
